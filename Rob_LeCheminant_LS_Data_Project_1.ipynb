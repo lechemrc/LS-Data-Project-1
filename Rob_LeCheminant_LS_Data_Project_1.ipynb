{
  "nbformat": 4,
  "nbformat_minor": 0,
  "metadata": {
    "colab": {
      "name": "Rob LeCheminant - LS - Data Project 1.ipynb",
      "version": "0.3.2",
      "provenance": [],
      "collapsed_sections": [],
      "include_colab_link": true
    },
    "kernelspec": {
      "name": "python3",
      "display_name": "Python 3"
    }
  },
  "cells": [
    {
      "cell_type": "markdown",
      "metadata": {
        "id": "view-in-github",
        "colab_type": "text"
      },
      "source": [
        "<a href=\"https://colab.research.google.com/github/lechemrc/LS-Data-Project-1/blob/master/Rob_LeCheminant_LS_Data_Project_1.ipynb\" target=\"_parent\"><img src=\"https://colab.research.google.com/assets/colab-badge.svg\" alt=\"Open In Colab\"/></a>"
      ]
    },
    {
      "cell_type": "markdown",
      "metadata": {
        "id": "jUHPYK71JYeN",
        "colab_type": "text"
      },
      "source": [
        "## Data Set - NCHS - Potentially Excess Deaths from the Five Leading Causes of Death\n",
        "\n",
        "[NCHS Data Set can be found here (click) ](https://catalog.data.gov/dataset/nchs-potentially-excess-deaths-from-the-five-leading-causes-of-death)\n",
        "\n",
        "MMWR Surveillance Summary 66 (No. SS-1):1-8 found that nonmetropolitan areas have significant numbers of potentially excess deaths from the five leading causes of death. These figures accompany this report by presenting information on potentially excess deaths in nonmetropolitan and metropolitan areas at the state level. They also add additional years of data and options for selecting different age ranges and benchmarks. Potentially excess deaths are defined in MMWR Surveillance Summary 66(No. SS-1):1-8 as deaths that exceed the numbers that would be expected if the death rates of states with the lowest rates (benchmarks) occurred across all states. They are calculated by subtracting expected deaths for specific benchmarks from observed deaths. Not all potentially excess deaths can be prevented; some areas might have characteristics that predispose them to higher rates of death. However, many potentially excess deaths might represent deaths that could be prevented through improved public health programs that support healthier behaviors and neighborhoods or better access to health care services. Mortality data for U.S. residents come from the National Vital Statistics System. Estimates based on fewer than 10 observed deaths are not shown and shaded yellow on the map. Underlying cause of death is based on the International Classification of Diseases, 10th Revision (ICD-10) Heart disease (I00-I09, I11, I13, and I20–I51) Cancer (C00–C97) Unintentional injury (V01–X59 and Y85–Y86) Chronic lower respiratory disease (J40–J47) Stroke (I60–I69) Locality (nonmetropolitan vs. metropolitan) is based on the Office of Management and Budget’s 2013 county-based classification scheme. Benchmarks are based on the three states with the lowest age and cause-specific mortality rates. Potentially excess deaths for each state are calculated by subtracting deaths at the benchmark rates (expected deaths) from observed deaths. Users can explore three benchmarks: “2010 Fixed” is a fixed benchmark based on the best performing States in 2010. “2005 Fixed” is a fixed benchmark based on the best performing States in 2005. “Floating” is based on the best performing States in each year so change from year to year. SOURCES CDC/NCHS, National Vital Statistics System, mortality data (see http://www.cdc.gov/nchs/deaths.htm); and CDC WONDER (see http://wonder.cdc.gov). REFERENCES\n",
        "\n",
        "Moy E, Garcia MC, Bastian B, Rossen LM, Ingram DD, Faul M, Massetti GM, Thomas CC, Hong Y, Yoon PW, Iademarco MF. Leading Causes of Death in Nonmetropolitan and Metropolitan Areas – United States, 1999-2014. MMWR Surveillance Summary 2017; 66(No. SS-1):1-8.\n",
        "\n",
        "Garcia MC, Faul M, Massetti G, Thomas CC, Hong Y, Bauer UE, Iademarco MF. Reducing Potentially Excess Deaths from the Five Leading Causes of Death in the Rural United States. MMWR Surveillance Summary 2017; 66(No. SS-2):1–7.\n",
        "\n",
        "*Public: This dataset is intended for public access and use.\n",
        "License: No license information was provided. If this work was prepared by an officer or employee of the United States government as part of that person's official duties it is considered a U.S. Government Work.*"
      ]
    },
    {
      "cell_type": "markdown",
      "metadata": {
        "id": "arsIwpYzK7f6",
        "colab_type": "text"
      },
      "source": [
        "# Question: Are non-metropolitan (rural) deaths more likely than metropolitan (urban) deaths? Are there more dying in non-metropolitan areas than metropolitan areas and what cause(s) is more likely?"
      ]
    },
    {
      "cell_type": "markdown",
      "metadata": {
        "id": "318waLkSJntU",
        "colab_type": "text"
      },
      "source": [
        "### Important imports"
      ]
    },
    {
      "cell_type": "code",
      "metadata": {
        "id": "GSi-Kjq-FpZV",
        "colab_type": "code",
        "colab": {}
      },
      "source": [
        "import pandas as pd\n",
        "import numpy as np\n",
        "import matplotlib.pyplot as plt\n",
        "%matplotlib inline\n",
        "import seaborn as sns\n",
        "import scipy.stats"
      ],
      "execution_count": 0,
      "outputs": []
    },
    {
      "cell_type": "markdown",
      "metadata": {
        "id": "YYUzCOsLH_QO",
        "colab_type": "text"
      },
      "source": [
        "### Loading in the Data"
      ]
    },
    {
      "cell_type": "code",
      "metadata": {
        "id": "22bveE--F2t-",
        "colab_type": "code",
        "colab": {
          "base_uri": "https://localhost:8080/",
          "height": 221
        },
        "outputId": "237cb8bb-11ca-4249-f40b-a91bc12641c0"
      },
      "source": [
        "# Loading in the data\n",
        "\n",
        "url = 'https://raw.githubusercontent.com/lechemrc/Datasets-to-ref/master/NCHS_-_Potentially_Excess_Deaths_from_the_Five_Leading_Causes_of_Death.csv'\n",
        "\n",
        "df = pd.read_csv(url)\n",
        "print(df.shape)\n",
        "df.head()"
      ],
      "execution_count": 4,
      "outputs": [
        {
          "output_type": "stream",
          "text": [
            "(205920, 13)\n"
          ],
          "name": "stdout"
        },
        {
          "output_type": "execute_result",
          "data": {
            "text/html": [
              "<div>\n",
              "<style scoped>\n",
              "    .dataframe tbody tr th:only-of-type {\n",
              "        vertical-align: middle;\n",
              "    }\n",
              "\n",
              "    .dataframe tbody tr th {\n",
              "        vertical-align: top;\n",
              "    }\n",
              "\n",
              "    .dataframe thead th {\n",
              "        text-align: right;\n",
              "    }\n",
              "</style>\n",
              "<table border=\"1\" class=\"dataframe\">\n",
              "  <thead>\n",
              "    <tr style=\"text-align: right;\">\n",
              "      <th></th>\n",
              "      <th>Year</th>\n",
              "      <th>Cause of Death</th>\n",
              "      <th>State</th>\n",
              "      <th>State FIPS Code</th>\n",
              "      <th>HHS Region</th>\n",
              "      <th>Age Range</th>\n",
              "      <th>Benchmark</th>\n",
              "      <th>Locality</th>\n",
              "      <th>Observed Deaths</th>\n",
              "      <th>Population</th>\n",
              "      <th>Expected Deaths</th>\n",
              "      <th>Potentially Excess Deaths</th>\n",
              "      <th>Percent Potentially Excess Deaths</th>\n",
              "    </tr>\n",
              "  </thead>\n",
              "  <tbody>\n",
              "    <tr>\n",
              "      <th>0</th>\n",
              "      <td>2005</td>\n",
              "      <td>Cancer</td>\n",
              "      <td>Alabama</td>\n",
              "      <td>AL</td>\n",
              "      <td>4</td>\n",
              "      <td>0-49</td>\n",
              "      <td>2005 Fixed</td>\n",
              "      <td>All</td>\n",
              "      <td>756.0</td>\n",
              "      <td>3148377.0</td>\n",
              "      <td>451.0</td>\n",
              "      <td>305.0</td>\n",
              "      <td>40.3</td>\n",
              "    </tr>\n",
              "    <tr>\n",
              "      <th>1</th>\n",
              "      <td>2005</td>\n",
              "      <td>Cancer</td>\n",
              "      <td>Alabama</td>\n",
              "      <td>AL</td>\n",
              "      <td>4</td>\n",
              "      <td>0-49</td>\n",
              "      <td>2005 Fixed</td>\n",
              "      <td>Metropolitan</td>\n",
              "      <td>556.0</td>\n",
              "      <td>2379871.0</td>\n",
              "      <td>341.0</td>\n",
              "      <td>217.0</td>\n",
              "      <td>39.0</td>\n",
              "    </tr>\n",
              "    <tr>\n",
              "      <th>2</th>\n",
              "      <td>2005</td>\n",
              "      <td>Cancer</td>\n",
              "      <td>Alabama</td>\n",
              "      <td>AL</td>\n",
              "      <td>4</td>\n",
              "      <td>0-49</td>\n",
              "      <td>2005 Fixed</td>\n",
              "      <td>Nonmetropolitan</td>\n",
              "      <td>200.0</td>\n",
              "      <td>768506.0</td>\n",
              "      <td>111.0</td>\n",
              "      <td>89.0</td>\n",
              "      <td>44.5</td>\n",
              "    </tr>\n",
              "    <tr>\n",
              "      <th>3</th>\n",
              "      <td>2005</td>\n",
              "      <td>Cancer</td>\n",
              "      <td>Alabama</td>\n",
              "      <td>AL</td>\n",
              "      <td>4</td>\n",
              "      <td>0-49</td>\n",
              "      <td>2010 Fixed</td>\n",
              "      <td>All</td>\n",
              "      <td>756.0</td>\n",
              "      <td>3148377.0</td>\n",
              "      <td>421.0</td>\n",
              "      <td>335.0</td>\n",
              "      <td>44.3</td>\n",
              "    </tr>\n",
              "    <tr>\n",
              "      <th>4</th>\n",
              "      <td>2005</td>\n",
              "      <td>Cancer</td>\n",
              "      <td>Alabama</td>\n",
              "      <td>AL</td>\n",
              "      <td>4</td>\n",
              "      <td>0-49</td>\n",
              "      <td>2010 Fixed</td>\n",
              "      <td>Metropolitan</td>\n",
              "      <td>556.0</td>\n",
              "      <td>2379871.0</td>\n",
              "      <td>318.0</td>\n",
              "      <td>238.0</td>\n",
              "      <td>42.8</td>\n",
              "    </tr>\n",
              "  </tbody>\n",
              "</table>\n",
              "</div>"
            ],
            "text/plain": [
              "   Year  ... Percent Potentially Excess Deaths\n",
              "0  2005  ...                              40.3\n",
              "1  2005  ...                              39.0\n",
              "2  2005  ...                              44.5\n",
              "3  2005  ...                              44.3\n",
              "4  2005  ...                              42.8\n",
              "\n",
              "[5 rows x 13 columns]"
            ]
          },
          "metadata": {
            "tags": []
          },
          "execution_count": 4
        }
      ]
    },
    {
      "cell_type": "markdown",
      "metadata": {
        "id": "GRhiwSZNIBOR",
        "colab_type": "text"
      },
      "source": [
        "### Exploring pieces of the data"
      ]
    },
    {
      "cell_type": "code",
      "metadata": {
        "id": "9BjBDGxwHMnn",
        "colab_type": "code",
        "colab": {
          "base_uri": "https://localhost:8080/",
          "height": 119
        },
        "outputId": "f5916327-dc95-464c-f74a-db796ab03217"
      },
      "source": [
        "df['Cause of Death'].value_counts()\n",
        "\n",
        "# This is showing me that they took an equal number of the top causes of death"
      ],
      "execution_count": 6,
      "outputs": [
        {
          "output_type": "execute_result",
          "data": {
            "text/plain": [
              "Heart Disease                        41184\n",
              "Unintentional Injury                 41184\n",
              "Cancer                               41184\n",
              "Stroke                               41184\n",
              "Chronic Lower Respiratory Disease    41184\n",
              "Name: Cause of Death, dtype: int64"
            ]
          },
          "metadata": {
            "tags": []
          },
          "execution_count": 6
        }
      ]
    },
    {
      "cell_type": "code",
      "metadata": {
        "id": "jFGTXXw2H6LF",
        "colab_type": "code",
        "colab": {
          "base_uri": "https://localhost:8080/",
          "height": 221
        },
        "outputId": "abd8f508-1d8b-4c63-8ae1-afd3d96c23cb"
      },
      "source": [
        "df['Year'].value_counts()\n",
        "\n",
        "# Time spans from 2005 - 2015, 11 years"
      ],
      "execution_count": 7,
      "outputs": [
        {
          "output_type": "execute_result",
          "data": {
            "text/plain": [
              "2015    18720\n",
              "2014    18720\n",
              "2013    18720\n",
              "2012    18720\n",
              "2011    18720\n",
              "2010    18720\n",
              "2009    18720\n",
              "2008    18720\n",
              "2007    18720\n",
              "2006    18720\n",
              "2005    18720\n",
              "Name: Year, dtype: int64"
            ]
          },
          "metadata": {
            "tags": []
          },
          "execution_count": 7
        }
      ]
    },
    {
      "cell_type": "code",
      "metadata": {
        "id": "QwSeAT6OIK9e",
        "colab_type": "code",
        "colab": {
          "base_uri": "https://localhost:8080/",
          "height": 935
        },
        "outputId": "d1032710-a252-4bd0-c9cc-efd6514adbc1"
      },
      "source": [
        "print(df['State'].nunique())\n",
        "df['State'].value_counts()\n",
        "\n",
        "# Has an equal number for each state, but also \n",
        "# has 'United States' and 'District of Columbia'\n",
        "# DC has a potential issue in that it is listed as 'District of\\nColumbia'"
      ],
      "execution_count": 17,
      "outputs": [
        {
          "output_type": "stream",
          "text": [
            "52\n"
          ],
          "name": "stdout"
        },
        {
          "output_type": "execute_result",
          "data": {
            "text/plain": [
              "Vermont                  3960\n",
              "Ohio                     3960\n",
              "Mississippi              3960\n",
              "Virginia                 3960\n",
              "Missouri                 3960\n",
              "Minnesota                3960\n",
              "Kansas                   3960\n",
              "United States            3960\n",
              "New Jersey               3960\n",
              "Nevada                   3960\n",
              "Georgia                  3960\n",
              "Indiana                  3960\n",
              "New Mexico               3960\n",
              "Arizona                  3960\n",
              "Connecticut              3960\n",
              "Maine                    3960\n",
              "Rhode Island             3960\n",
              "Florida                  3960\n",
              "Illinois                 3960\n",
              "Colorado                 3960\n",
              "Alaska                   3960\n",
              "Iowa                     3960\n",
              "New Hampshire            3960\n",
              "New York                 3960\n",
              "Idaho                    3960\n",
              "Texas                    3960\n",
              "North Dakota             3960\n",
              "Utah                     3960\n",
              "Kentucky                 3960\n",
              "Hawaii                   3960\n",
              "Oregon                   3960\n",
              "Wyoming                  3960\n",
              "Oklahoma                 3960\n",
              "South Dakota             3960\n",
              "Delaware                 3960\n",
              "Pennsylvania             3960\n",
              "Maryland                 3960\n",
              "Michigan                 3960\n",
              "Louisiana                3960\n",
              "Alabama                  3960\n",
              "Arkansas                 3960\n",
              "Wisconsin                3960\n",
              "California               3960\n",
              "District of\\nColumbia    3960\n",
              "North Carolina           3960\n",
              "Tennessee                3960\n",
              "Washington               3960\n",
              "Montana                  3960\n",
              "Nebraska                 3960\n",
              "Massachusetts            3960\n",
              "South Carolina           3960\n",
              "West Virginia            3960\n",
              "Name: State, dtype: int64"
            ]
          },
          "metadata": {
            "tags": []
          },
          "execution_count": 17
        }
      ]
    },
    {
      "cell_type": "code",
      "metadata": {
        "id": "R6j47qPMJCeK",
        "colab_type": "code",
        "colab": {
          "base_uri": "https://localhost:8080/",
          "height": 85
        },
        "outputId": "45b1aa61-5d30-441d-8e4d-b804793b683b"
      },
      "source": [
        "df['Locality'].value_counts()"
      ],
      "execution_count": 18,
      "outputs": [
        {
          "output_type": "execute_result",
          "data": {
            "text/plain": [
              "Nonmetropolitan    68640\n",
              "Metropolitan       68640\n",
              "All                68640\n",
              "Name: Locality, dtype: int64"
            ]
          },
          "metadata": {
            "tags": []
          },
          "execution_count": 18
        }
      ]
    },
    {
      "cell_type": "code",
      "metadata": {
        "id": "odTyWJPUJEkc",
        "colab_type": "code",
        "colab": {
          "base_uri": "https://localhost:8080/",
          "height": 170
        },
        "outputId": "ff721eaa-0ec7-4ce3-9f23-2881e6bca021"
      },
      "source": [
        "df['Age Range'].value_counts()\n",
        "\n",
        "# this age range is intersting... I'm going to have to think on this one and \n",
        "# see what they really mean"
      ],
      "execution_count": 20,
      "outputs": [
        {
          "output_type": "execute_result",
          "data": {
            "text/plain": [
              "0-49    25740\n",
              "0-64    25740\n",
              "0-74    25740\n",
              "0-54    25740\n",
              "0-69    25740\n",
              "0-59    25740\n",
              "0-79    25740\n",
              "0-84    25740\n",
              "Name: Age Range, dtype: int64"
            ]
          },
          "metadata": {
            "tags": []
          },
          "execution_count": 20
        }
      ]
    },
    {
      "cell_type": "code",
      "metadata": {
        "id": "HFJLjpOsJLP_",
        "colab_type": "code",
        "colab": {
          "base_uri": "https://localhost:8080/",
          "height": 34
        },
        "outputId": "d255f5ed-1b44-44ca-bdc6-2707e68da24c"
      },
      "source": [
        "df['Population'].nunique()\n",
        "\n",
        "# This shows that a wide range of populations were used... I may have to focus\n",
        "# on random samples to really analyze the data properly"
      ],
      "execution_count": 24,
      "outputs": [
        {
          "output_type": "execute_result",
          "data": {
            "text/plain": [
              "13000"
            ]
          },
          "metadata": {
            "tags": []
          },
          "execution_count": 24
        }
      ]
    },
    {
      "cell_type": "code",
      "metadata": {
        "id": "uSiB78bFJ_-n",
        "colab_type": "code",
        "colab": {
          "base_uri": "https://localhost:8080/",
          "height": 51
        },
        "outputId": "2ed19268-4749-43db-f3d7-e48c762c2703"
      },
      "source": [
        "# comparing expected deaths and observed deaths\n",
        "\n",
        "print(df['Expected Deaths'].sum())\n",
        "print(df['Observed Deaths'].sum())"
      ],
      "execution_count": 25,
      "outputs": [
        {
          "output_type": "stream",
          "text": [
            "413504210.0\n",
            "582146850.0\n"
          ],
          "name": "stdout"
        }
      ]
    },
    {
      "cell_type": "code",
      "metadata": {
        "id": "SI6b9VwuKq2A",
        "colab_type": "code",
        "colab": {}
      },
      "source": [
        ""
      ],
      "execution_count": 0,
      "outputs": []
    },
    {
      "cell_type": "markdown",
      "metadata": {
        "id": "-3vCUOZZK3e2",
        "colab_type": "text"
      },
      "source": [
        "### Analyzing the Data"
      ]
    },
    {
      "cell_type": "code",
      "metadata": {
        "id": "ZCTO_2q2K5fM",
        "colab_type": "code",
        "colab": {}
      },
      "source": [
        ""
      ],
      "execution_count": 0,
      "outputs": []
    }
  ]
}